{
 "cells": [
  {
   "cell_type": "markdown",
   "metadata": {},
   "source": [
    "# Self-Driving Car Engineer Nanodegree\n",
    "\n",
    "## Deep Learning\n",
    "\n",
    "## Project: Build a Traffic Sign Recognition Classifier\n",
    "\n",
    "In this notebook, a template is provided for you to implement your functionality in stages, which is required to successfully complete this project. If additional code is required that cannot be included in the notebook, be sure that the Python code is successfully imported and included in your submission if necessary. \n",
    "\n",
    "> **Note**: Once you have completed all of the code implementations, you need to finalize your work by exporting the iPython Notebook as an HTML document. Before exporting the notebook to html, all of the code cells need to have been run so that reviewers can see the final implementation and output. You can then export the notebook by using the menu above and navigating to  \\n\",\n",
    "    \"**File -> Download as -> HTML (.html)**. Include the finished document along with this notebook as your submission. \n",
    "\n",
    "In addition to implementing code, there is a writeup to complete. The writeup should be completed in a separate file, which can be either a markdown file or a pdf document. There is a [write up template](https://github.com/udacity/CarND-Traffic-Sign-Classifier-Project/blob/master/writeup_template.md) that can be used to guide the writing process. Completing the code template and writeup template will cover all of the [rubric points](https://review.udacity.com/#!/rubrics/481/view) for this project.\n",
    "\n",
    "The [rubric](https://review.udacity.com/#!/rubrics/481/view) contains \"Stand Out Suggestions\" for enhancing the project beyond the minimum requirements. The stand out suggestions are optional. If you decide to pursue the \"stand out suggestions\", you can include the code in this Ipython notebook and also discuss the results in the writeup file.\n",
    "\n",
    "\n",
    ">**Note:** Code and Markdown cells can be executed using the **Shift + Enter** keyboard shortcut. In addition, Markdown cells can be edited by typically double-clicking the cell to enter edit mode."
   ]
  },
  {
   "cell_type": "markdown",
   "metadata": {},
   "source": [
    "---\n",
    "## Step 0: Load The Data"
   ]
  },
  {
   "cell_type": "code",
   "execution_count": 1,
   "metadata": {},
   "outputs": [
    {
     "name": "stdout",
     "output_type": "stream",
     "text": [
      "42\n"
     ]
    }
   ],
   "source": [
    "# Load pickled data\n",
    "import pickle\n",
    "import cv2\n",
    "import numpy as np\n",
    "# TODO: Fill this in based on where you saved the training and testing data\n",
    "all_data = '../traffic-signs-data/'\n",
    "training_file = all_data + 'train.p'\n",
    "validation_file= all_data + 'valid.p'\n",
    "testing_file = all_data + 'test.p'\n",
    "\n",
    "with open(training_file, mode='rb') as f:\n",
    "    train = pickle.load(f)\n",
    "with open(validation_file, mode='rb') as f:\n",
    "    valid = pickle.load(f)\n",
    "with open(testing_file, mode='rb') as f:\n",
    "    test = pickle.load(f)\n",
    "\n",
    "print(max(train['labels']))\n",
    "X_train, y_train = train['features'], train['labels']\n",
    "X_valid, y_valid = valid['features'], valid['labels']\n",
    "X_test, y_test = test['features'], test['labels']\n"
   ]
  },
  {
   "cell_type": "markdown",
   "metadata": {},
   "source": [
    "---\n",
    "\n",
    "## Step 1: Dataset Summary & Exploration\n",
    "\n",
    "The pickled data is a dictionary with 4 key/value pairs:\n",
    "\n",
    "- `'features'` is a 4D array containing raw pixel data of the traffic sign images, (num examples, width, height, channels).\n",
    "- `'labels'` is a 1D array containing the label/class id of the traffic sign. The file `signnames.csv` contains id -> name mappings for each id.\n",
    "- `'sizes'` is a list containing tuples, (width, height) representing the original width and height the image.\n",
    "- `'coords'` is a list containing tuples, (x1, y1, x2, y2) representing coordinates of a bounding box around the sign in the image. **THESE COORDINATES ASSUME THE ORIGINAL IMAGE. THE PICKLED DATA CONTAINS RESIZED VERSIONS (32 by 32) OF THESE IMAGES**\n",
    "\n",
    "Complete the basic data summary below. Use python, numpy and/or pandas methods to calculate the data summary rather than hard coding the results. For example, the [pandas shape method](http://pandas.pydata.org/pandas-docs/stable/generated/pandas.DataFrame.shape.html) might be useful for calculating some of the summary results. "
   ]
  },
  {
   "cell_type": "markdown",
   "metadata": {},
   "source": [
    "### Provide a Basic Summary of the Data Set Using Python, Numpy and/or Pandas"
   ]
  },
  {
   "cell_type": "code",
   "execution_count": 2,
   "metadata": {},
   "outputs": [
    {
     "name": "stdout",
     "output_type": "stream",
     "text": [
      "Number of training examples = 34799\n",
      "Number of validation examples = 4410\n",
      "Number of testing examples = 12630\n",
      "Image data shape = (32, 32, 3)\n",
      "Number of classes = 43\n"
     ]
    }
   ],
   "source": [
    "### Replace each question mark with the appropriate value. \n",
    "### Use python, pandas or numpy methods rather than hard coding the results\n",
    "\n",
    "# TODO: Number of training examples\n",
    "n_train = len(y_train)\n",
    "\n",
    "# TODO: Number of validation examples\n",
    "n_valid = len(y_valid)\n",
    "\n",
    "# TODO: Number of testing examples.\n",
    "n_test = len(y_test)\n",
    "\n",
    "# TODO: What's the shape of an traffic sign image?\n",
    "image_shape = (32, 32, 3)\n",
    "\n",
    "# TODO: How many unique classes/labels there are in the dataset.\n",
    "n_classes = 43\n",
    "\n",
    "print(\"Number of training examples =\", n_train)\n",
    "print(\"Number of validation examples =\", n_valid)\n",
    "print(\"Number of testing examples =\", n_test)\n",
    "print(\"Image data shape =\", image_shape)\n",
    "print(\"Number of classes =\", n_classes)"
   ]
  },
  {
   "cell_type": "markdown",
   "metadata": {},
   "source": [
    "### Include an exploratory visualization of the dataset"
   ]
  },
  {
   "cell_type": "markdown",
   "metadata": {},
   "source": [
    "Visualize the German Traffic Signs Dataset using the pickled file(s). This is open ended, suggestions include: plotting traffic sign images, plotting the count of each sign, etc. \n",
    "\n",
    "The [Matplotlib](http://matplotlib.org/) [examples](http://matplotlib.org/examples/index.html) and [gallery](http://matplotlib.org/gallery.html) pages are a great resource for doing visualizations in Python.\n",
    "\n",
    "**NOTE:** It's recommended you start with something simple first. If you wish to do more, come back to it after you've completed the rest of the sections. It can be interesting to look at the distribution of classes in the training, validation and test set. Is the distribution the same? Are there more examples of some classes than others?"
   ]
  },
  {
   "cell_type": "code",
   "execution_count": 3,
   "metadata": {
    "scrolled": false
   },
   "outputs": [
    {
     "name": "stdout",
     "output_type": "stream",
     "text": [
      "19369\n",
      "(32, 32, 3)\n",
      "[[[253 243 235]\n",
      "  [217 239 246]\n",
      "  [ 92 138 199]]\n",
      "\n",
      " [[237 211 196]\n",
      "  [188 204 207]\n",
      "  [ 68 110 162]]\n",
      "\n",
      " [[205 175 173]\n",
      "  [175 186 188]\n",
      "  [ 84 127 165]]]\n",
      "35\n"
     ]
    },
    {
     "data": {
      "text/plain": [
       "<matplotlib.image.AxesImage at 0x7ff93e1f24e0>"
      ]
     },
     "execution_count": 3,
     "metadata": {},
     "output_type": "execute_result"
    },
    {
     "data": {
      "image/png": "[encoded data removed]",
      "text/plain": [
       "<matplotlib.figure.Figure at 0x7ff93e4e6780>"
      ]
     },
     "metadata": {},
     "output_type": "display_data"
    }
   ],
   "source": [
    "### Data exploration visualization code goes here.\n",
    "### Feel free to use as many code cells as needed.\n",
    "import matplotlib.pyplot as plt\n",
    "import random\n",
    "# Visualizations will be shown in the notebook.\n",
    "%matplotlib inline\n",
    "n = random.randint(1, n_train)\n",
    "print(n)\n",
    "random_image = X_train[n]\n",
    "print(random_image.shape)\n",
    "print(random_image[15:18, 15:18, :])\n",
    "print(y_train[n])\n",
    "plt.figure(figsize = (10, 10))\n",
    "plt.imshow(random_image)\n"
   ]
  },
  {
   "cell_type": "markdown",
   "metadata": {},
   "source": [
    "----\n",
    "\n",
    "\n",
    "## Step 2: Design and Test a Model Architecture\n",
    "\n",
    "Design and implement a deep learning model that learns to recognize traffic signs. Train and test your model on the [German Traffic Sign Dataset](http://benchmark.ini.rub.de/?section=gtsrb&subsection=dataset).\n",
    "\n",
    "The LeNet-5 implementation shown in the [classroom](https://classroom.udacity.com/nanodegrees/nd013/parts/fbf77062-5703-404e-b60c-95b78b2f3f9e/modules/6df7ae49-c61c-4bb2-a23e-6527e69209ec/lessons/601ae704-1035-4287-8b11-e2c2716217ad/concepts/d4aca031-508f-4e0b-b493-e7b706120f81) at the end of the CNN lesson is a solid starting point. You'll have to change the number of classes and possibly the preprocessing, but aside from that it's plug and play! \n",
    "\n",
    "With the LeNet-5 solution from the lecture, you should expect a validation set accuracy of about 0.89. To meet specifications, the validation set accuracy will need to be at least 0.93. It is possible to get an even higher accuracy, but 0.93 is the minimum for a successful project submission. \n",
    "\n",
    "There are various aspects to consider when thinking about this problem:\n",
    "\n",
    "- Neural network architecture (is the network over or underfitting?)\n",
    "- Play around preprocessing techniques (normalization, rgb to grayscale, etc)\n",
    "- Number of examples per label (some have more than others).\n",
    "- Generate fake data.\n",
    "\n",
    "Here is an example of a [published baseline model on this problem](http://yann.lecun.com/exdb/publis/pdf/sermanet-ijcnn-11.pdf). It's not required to be familiar with the approach used in the paper but, it's good practice to try to read papers like these."
   ]
  },
  {
   "cell_type": "markdown",
   "metadata": {},
   "source": [
    "### Pre-process the Data Set (normalization, grayscale, etc.)"
   ]
  },
  {
   "cell_type": "markdown",
   "metadata": {},
   "source": [
    "Minimally, the image data should be normalized so that the data has mean zero and equal variance. For image data, `(pixel - 128)/ 128` is a quick way to approximately normalize the data and can be used in this project. \n",
    "\n",
    "Other pre-processing steps are optional. You can try different techniques to see if it improves performance. \n",
    "\n",
    "Use the code cell (or multiple code cells, if necessary) to implement the first step of your project."
   ]
  },
  {
   "cell_type": "code",
   "execution_count": 4,
   "metadata": {},
   "outputs": [
    {
     "name": "stdout",
     "output_type": "stream",
     "text": [
      "(32, 32, 3)\n"
     ]
    },
    {
     "data": {
      "image/png": "[encoded data removed]",
      "text/plain": [
       "<matplotlib.figure.Figure at 0x7ff93e236fd0>"
      ]
     },
     "metadata": {},
     "output_type": "display_data"
    }
   ],
   "source": [
    "### Preprocess the data here. It is required to normalize the data. Other preprocessing steps could include \n",
    "### converting to grayscale, etc.\n",
    "### Feel free to use as many code cells as needed.\n",
    "# n = random.randint(1, n_train)\n",
    "# random_image = X_train[n]\n",
    "\n",
    "#convert the image to HLS, normalize the histogram for the L level, make it grayscale\n",
    "def rgb2_normgray(image):\n",
    "    hls = cv2.cvtColor(image, cv2.COLOR_BGR2HLS)\n",
    "    hls[:,:,1] = cv2.equalizeHist(hls[:,:,1])\n",
    "    rgb = cv2.cvtColor(hls, cv2.COLOR_HLS2BGR)\n",
    "    gray = cv2.cvtColor(rgb, cv2.COLOR_BGR2GRAY)\n",
    "#     gray = np.dstack((gray, gray, gray))\n",
    "    \n",
    "    return gray\n",
    "\n",
    "#normalize the input YCrCb\n",
    "# rim = cv2.cvtColor(random_image, cv2.COLOR_BGR2YCrCb)\n",
    "# rim[:,:,0] = cv2.equalizeHist(rim[:,:,0])\n",
    "# rim_back = cv2.cvtColor(rim, cv2.COLOR_YCrCb2BGR)\n",
    "\n",
    "# plt.figure(figsize = (10, 10))\n",
    "# plt.imshow(rim_back)\n",
    "\n",
    "\n",
    "#grayscale \n",
    "# rim_back = cv2.cvtColor(rim, cv2.COLOR_BGR2GRAY)\n",
    "# rim_back = np.dstack((rim_back, rim_back, rim_back))\n",
    "# plt.figure(figsize = (10, 10))\n",
    "# plt.imshow(rim_back)\n",
    "\n",
    "# #normalize the input HLS\n",
    "rndm_img_processed = rgb2_normgray(random_image)\n",
    "rndm_img_processed = np.dstack((rndm_img_processed, rndm_img_processed, rndm_img_processed))\n",
    "\n",
    "plt.figure(figsize = (10, 10))\n",
    "plt.imshow(rndm_img_processed)\n",
    "result = rndm_img_processed\n",
    "\n",
    "print(result.shape)\n"
   ]
  },
  {
   "cell_type": "markdown",
   "metadata": {},
   "source": [
    "### Model Architecture"
   ]
  },
  {
   "cell_type": "code",
   "execution_count": 5,
   "metadata": {},
   "outputs": [
    {
     "name": "stdout",
     "output_type": "stream",
     "text": [
      "(34799, 32, 32, 1)\n",
      "(34799, 32, 32, 1)\n"
     ]
    }
   ],
   "source": [
    "### Define your architecture here.\n",
    "### Feel free to use as many code cells as needed.\n",
    "from sklearn.utils import shuffle\n",
    "\n",
    "X_train, y_train = shuffle(X_train, y_train)\n",
    "\n",
    "# X_train_norm = [rgb2_normgray(X) for X in X_train]\n",
    "\n",
    "a, b, c, d = X_train.shape\n",
    "\n",
    "X_train_norm = np.zeros([a, b, c, 1])\n",
    "\n",
    "for i in range(a):\n",
    "     X_train_norm[i] = rgb2_normgray(X_train[i]).reshape((b, c, 1))\n",
    "    \n",
    "a, b, c, d = X_valid.shape\n",
    "\n",
    "print(X_train_norm.shape)\n",
    "\n",
    "X_valid_norm = np.zeros([a, b, c, 1])\n",
    "print(X_train_norm.shape)\n",
    "\n",
    "for i in range(a):\n",
    "    X_valid_norm[i] = rgb2_normgray(X_valid[i]).reshape((b, c, 1))\n",
    "    \n",
    "import tensorflow as tf\n",
    "\n",
    "EPOCHS = 100\n",
    "BATCH_SIZE = 128\n",
    "\n",
    "from tensorflow.contrib.layers import flatten\n",
    "\n",
    "def Traffic_NN(input):\n",
    "    mu = 0\n",
    "    sigma = 0.1\n",
    "    \n",
    "    # SOLUTION: Layer 1: Convolutional. Input = 32x32x3. Output = 28x28x64. 6 before \n",
    "    conv1_W = tf.Variable(tf.truncated_normal(shape=(5, 5, 1, 16), mean = mu, stddev = sigma))\n",
    "    conv1_b = tf.Variable(tf.zeros(16))\n",
    "    conv1   = tf.nn.conv2d(x, conv1_W, strides=[1, 1, 1, 1], padding='VALID') + conv1_b\n",
    "\n",
    "    # SOLUTION: Activation.\n",
    "    conv1 = tf.nn.relu(conv1)\n",
    "\n",
    "    # SOLUTION: Pooling. Input = 28x28x64. Output = 14x14x64. 6 before\n",
    "    conv1 = tf.nn.max_pool(conv1, ksize=[1, 2, 2, 1], strides=[1, 2, 2, 1], padding='VALID')\n",
    "\n",
    "    # SOLUTION: Layer 2: Convolutional. Output = 10x10x92.\n",
    "    conv2_W = tf.Variable(tf.truncated_normal(shape=(5, 5, 16, 32), mean = mu, stddev = sigma))\n",
    "    conv2_b = tf.Variable(tf.zeros(32))\n",
    "    conv2   = tf.nn.conv2d(conv1, conv2_W, strides=[1, 1, 1, 1], padding='VALID') + conv2_b\n",
    "    \n",
    "    # SOLUTION: Activation.\n",
    "    conv2 = tf.nn.relu(conv2)\n",
    "\n",
    "    # SOLUTION: Pooling. Input = 10x10x92. Output = 5x5x64.\n",
    "    conv2 = tf.nn.max_pool(conv2, ksize=[1, 2, 2, 1], strides=[1, 2, 2, 1], padding='VALID')\n",
    "\n",
    "    # SOLUTION: Flatten. Input = 5x5x32. Output = 1600.\n",
    "    fc0   = flatten(conv2)\n",
    "    \n",
    "    # SOLUTION: Layer 3: Fully Connected. Input = 1600. Output = 400.\n",
    "    fc1_W = tf.Variable(tf.truncated_normal(shape=(800, 256), mean = mu, stddev = sigma))\n",
    "    fc1_b = tf.Variable(tf.zeros(256))\n",
    "    fc1   = tf.matmul(fc0, fc1_W) + fc1_b\n",
    "    \n",
    "    # SOLUTION: Activation.\n",
    "    fc1    = tf.nn.dropout(fc1, keep_prob)\n",
    "    fc1    = tf.nn.relu(fc1)\n",
    "\n",
    "    # SOLUTION: Layer 4: Fully Connected. Input = 400. Output = 100.\n",
    "    fc2_W  = tf.Variable(tf.truncated_normal(shape=(256, 128), mean = mu, stddev = sigma))\n",
    "    fc2_b  = tf.Variable(tf.zeros(128))\n",
    "    fc2    = tf.matmul(fc1, fc2_W) + fc2_b\n",
    "    \n",
    "    # SOLUTION: Activation.\n",
    "    fc2 = tf.nn.dropout(fc2, keep_prob)\n",
    "    fc2    = tf.nn.relu(fc2)\n",
    "\n",
    "\n",
    "    # SOLUTION: Layer 5: Fully Connected. Input = 84. Output = 43.\n",
    "    fc3_W  = tf.Variable(tf.truncated_normal(shape=(128, 43), mean = mu, stddev = sigma))\n",
    "    fc3_b  = tf.Variable(tf.zeros(43))\n",
    "    \n",
    "    logits = tf.matmul(fc2, fc3_W) + fc3_b\n",
    "    \n",
    "    return logits\n",
    "    "
   ]
  },
  {
   "cell_type": "markdown",
   "metadata": {},
   "source": [
    "### Train, Validate and Test the Model"
   ]
  },
  {
   "cell_type": "markdown",
   "metadata": {},
   "source": [
    "A validation set can be used to assess how well the model is performing. A low accuracy on the training and validation\n",
    "sets imply underfitting. A high accuracy on the training set but low accuracy on the validation set implies overfitting."
   ]
  },
  {
   "cell_type": "code",
   "execution_count": 6,
   "metadata": {
    "scrolled": true
   },
   "outputs": [
    {
     "name": "stdout",
     "output_type": "stream",
     "text": [
      "Training...\n",
      "\n",
      "EPOCH 1 ...\n",
      "Validation Accuracy = 0.115\n",
      "\n",
      "EPOCH 2 ...\n",
      "Validation Accuracy = 0.368\n",
      "\n",
      "EPOCH 3 ...\n",
      "Validation Accuracy = 0.584\n",
      "\n",
      "EPOCH 4 ...\n",
      "Validation Accuracy = 0.690\n",
      "\n",
      "EPOCH 5 ...\n",
      "Validation Accuracy = 0.753\n",
      "\n",
      "EPOCH 6 ...\n",
      "Validation Accuracy = 0.793\n",
      "\n",
      "EPOCH 7 ...\n",
      "Validation Accuracy = 0.830\n",
      "\n",
      "EPOCH 8 ...\n",
      "Validation Accuracy = 0.847\n",
      "\n",
      "EPOCH 9 ...\n",
      "Validation Accuracy = 0.861\n",
      "\n",
      "EPOCH 10 ...\n",
      "Validation Accuracy = 0.865\n",
      "\n",
      "EPOCH 11 ...\n",
      "Validation Accuracy = 0.885\n",
      "\n",
      "EPOCH 12 ...\n",
      "Validation Accuracy = 0.882\n",
      "\n",
      "EPOCH 13 ...\n",
      "Validation Accuracy = 0.889\n",
      "\n",
      "EPOCH 14 ...\n",
      "Validation Accuracy = 0.905\n",
      "\n",
      "EPOCH 15 ...\n",
      "Validation Accuracy = 0.892\n",
      "\n",
      "EPOCH 16 ...\n",
      "Validation Accuracy = 0.915\n",
      "\n",
      "EPOCH 17 ...\n",
      "Validation Accuracy = 0.910\n",
      "\n",
      "EPOCH 18 ...\n",
      "Validation Accuracy = 0.908\n",
      "\n",
      "EPOCH 19 ...\n",
      "Validation Accuracy = 0.914\n",
      "\n",
      "EPOCH 20 ...\n",
      "Validation Accuracy = 0.915\n",
      "\n",
      "EPOCH 21 ...\n",
      "Validation Accuracy = 0.916\n",
      "\n",
      "EPOCH 22 ...\n",
      "Validation Accuracy = 0.927\n",
      "\n",
      "EPOCH 23 ...\n",
      "Validation Accuracy = 0.916\n",
      "\n",
      "EPOCH 24 ...\n",
      "Validation Accuracy = 0.920\n",
      "\n",
      "EPOCH 25 ...\n",
      "Validation Accuracy = 0.920\n",
      "\n",
      "EPOCH 26 ...\n",
      "Validation Accuracy = 0.912\n",
      "\n",
      "EPOCH 27 ...\n",
      "Validation Accuracy = 0.927\n",
      "\n",
      "EPOCH 28 ...\n",
      "Validation Accuracy = 0.928\n",
      "\n",
      "EPOCH 29 ...\n",
      "Validation Accuracy = 0.920\n",
      "\n",
      "EPOCH 30 ...\n",
      "Validation Accuracy = 0.931\n",
      "\n",
      "EPOCH 31 ...\n",
      "Validation Accuracy = 0.933\n",
      "\n",
      "EPOCH 32 ...\n",
      "Validation Accuracy = 0.939\n",
      "\n",
      "EPOCH 33 ...\n",
      "Validation Accuracy = 0.931\n",
      "\n",
      "EPOCH 34 ...\n",
      "Validation Accuracy = 0.934\n",
      "\n",
      "EPOCH 35 ...\n",
      "Validation Accuracy = 0.933\n",
      "\n",
      "EPOCH 36 ...\n",
      "Validation Accuracy = 0.930\n",
      "\n",
      "EPOCH 37 ...\n",
      "Validation Accuracy = 0.927\n",
      "\n",
      "EPOCH 38 ...\n",
      "Validation Accuracy = 0.937\n",
      "\n",
      "EPOCH 39 ...\n",
      "Validation Accuracy = 0.927\n",
      "\n",
      "EPOCH 40 ...\n",
      "Validation Accuracy = 0.930\n",
      "\n",
      "EPOCH 41 ...\n",
      "Validation Accuracy = 0.939\n",
      "\n",
      "EPOCH 42 ...\n",
      "Validation Accuracy = 0.926\n",
      "\n",
      "EPOCH 43 ...\n",
      "Validation Accuracy = 0.933\n",
      "\n",
      "EPOCH 44 ...\n",
      "Validation Accuracy = 0.937\n",
      "\n",
      "EPOCH 45 ...\n",
      "Validation Accuracy = 0.938\n",
      "\n",
      "EPOCH 46 ...\n",
      "Validation Accuracy = 0.934\n",
      "\n",
      "EPOCH 47 ...\n",
      "Validation Accuracy = 0.935\n",
      "\n",
      "EPOCH 48 ...\n",
      "Validation Accuracy = 0.936\n",
      "\n",
      "EPOCH 49 ...\n",
      "Validation Accuracy = 0.922\n",
      "\n",
      "EPOCH 50 ...\n",
      "Validation Accuracy = 0.934\n",
      "\n",
      "EPOCH 51 ...\n",
      "Validation Accuracy = 0.939\n",
      "\n",
      "EPOCH 52 ...\n",
      "Validation Accuracy = 0.929\n",
      "\n",
      "EPOCH 53 ...\n",
      "Validation Accuracy = 0.937\n",
      "\n",
      "EPOCH 54 ...\n",
      "Validation Accuracy = 0.941\n",
      "\n",
      "EPOCH 55 ...\n",
      "Validation Accuracy = 0.934\n",
      "\n",
      "EPOCH 56 ...\n",
      "Validation Accuracy = 0.944\n",
      "\n",
      "EPOCH 57 ...\n",
      "Validation Accuracy = 0.943\n",
      "\n",
      "EPOCH 58 ...\n",
      "Validation Accuracy = 0.945\n",
      "\n",
      "EPOCH 59 ...\n",
      "Validation Accuracy = 0.938\n",
      "\n",
      "EPOCH 60 ...\n",
      "Validation Accuracy = 0.936\n",
      "\n",
      "EPOCH 61 ...\n",
      "Validation Accuracy = 0.931\n",
      "\n",
      "EPOCH 62 ...\n",
      "Validation Accuracy = 0.939\n",
      "\n",
      "EPOCH 63 ...\n",
      "Validation Accuracy = 0.933\n",
      "\n",
      "EPOCH 64 ...\n",
      "Validation Accuracy = 0.939\n",
      "\n",
      "EPOCH 65 ...\n",
      "Validation Accuracy = 0.937\n",
      "\n",
      "EPOCH 66 ...\n",
      "Validation Accuracy = 0.936\n",
      "\n",
      "EPOCH 67 ...\n",
      "Validation Accuracy = 0.932\n",
      "\n",
      "EPOCH 68 ...\n",
      "Validation Accuracy = 0.940\n",
      "\n",
      "EPOCH 69 ...\n",
      "Validation Accuracy = 0.943\n",
      "\n",
      "EPOCH 70 ...\n",
      "Validation Accuracy = 0.928\n",
      "\n",
      "EPOCH 71 ...\n",
      "Validation Accuracy = 0.930\n",
      "\n",
      "EPOCH 72 ...\n",
      "Validation Accuracy = 0.936\n",
      "\n",
      "EPOCH 73 ...\n",
      "Validation Accuracy = 0.936\n",
      "\n",
      "EPOCH 74 ...\n",
      "Validation Accuracy = 0.938\n",
      "\n",
      "EPOCH 75 ...\n",
      "Validation Accuracy = 0.940\n",
      "\n",
      "EPOCH 76 ...\n",
      "Validation Accuracy = 0.944\n",
      "\n",
      "EPOCH 77 ...\n",
      "Validation Accuracy = 0.944\n",
      "\n",
      "EPOCH 78 ...\n",
      "Validation Accuracy = 0.944\n",
      "\n",
      "EPOCH 79 ...\n",
      "Validation Accuracy = 0.942\n",
      "\n",
      "EPOCH 80 ...\n",
      "Validation Accuracy = 0.943\n",
      "\n",
      "EPOCH 81 ...\n",
      "Validation Accuracy = 0.943\n",
      "\n",
      "EPOCH 82 ...\n",
      "Validation Accuracy = 0.945\n",
      "\n",
      "EPOCH 83 ...\n",
      "Validation Accuracy = 0.945\n",
      "\n",
      "EPOCH 84 ...\n",
      "Validation Accuracy = 0.931\n",
      "\n",
      "EPOCH 85 ...\n",
      "Validation Accuracy = 0.935\n",
      "\n",
      "EPOCH 86 ...\n",
      "Validation Accuracy = 0.943\n",
      "\n",
      "EPOCH 87 ...\n",
      "Validation Accuracy = 0.943\n",
      "\n",
      "EPOCH 88 ...\n",
      "Validation Accuracy = 0.938\n",
      "\n",
      "EPOCH 89 ...\n",
      "Validation Accuracy = 0.949\n",
      "\n",
      "Model saved\n"
     ]
    }
   ],
   "source": [
    "### Train your model here.\n",
    "### Calculate and report the accuracy on the training and validation set.\n",
    "### Once a final model architecture is selected, \n",
    "### the accuracy on the test set should be calculated and reported as well.\n",
    "### Feel free to use as many code cells as needed.\n",
    "x = tf.placeholder(tf.float32, (None, 32, 32, 1))\n",
    "y = tf.placeholder(tf.int32, (None))\n",
    "keep_prob = tf.placeholder(tf.float32) # probability to keep units\n",
    "one_hot_y = tf.one_hot(y, 43)\n",
    "\n",
    "rate = 0.0008\n",
    "\n",
    "logits = Traffic_NN(x)\n",
    "cross_entropy = tf.nn.softmax_cross_entropy_with_logits(labels=one_hot_y, logits=logits)\n",
    "loss_operation = tf.reduce_mean(cross_entropy)\n",
    "optimizer = tf.train.AdamOptimizer(learning_rate = rate)\n",
    "training_operation = optimizer.minimize(loss_operation)\n",
    "\n",
    "correct_prediction = tf.equal(tf.argmax(logits, 1), tf.argmax(one_hot_y, 1))\n",
    "accuracy_operation = tf.reduce_mean(tf.cast(correct_prediction, tf.float32))\n",
    "saver = tf.train.Saver()\n",
    "\n",
    "def evaluate(X_data, y_data):\n",
    "    num_examples = len(X_data)\n",
    "    total_accuracy = 0\n",
    "    sess = tf.get_default_session()\n",
    "    for offset in range(0, num_examples, BATCH_SIZE):\n",
    "        batch_x, batch_y = X_data[offset:offset+BATCH_SIZE], y_data[offset:offset+BATCH_SIZE]\n",
    "        accuracy = sess.run(accuracy_operation, feed_dict={x: batch_x, y: batch_y, keep_prob: 1})\n",
    "        total_accuracy += (accuracy * len(batch_x))\n",
    "    return total_accuracy / num_examples\n",
    "\n",
    "# def evaluate_new_signs(X_data, y_data):\n",
    "#     num_examples = len(X_data)\n",
    "#     total_accuracy = 0\n",
    "#     sess = tf.get_default_session()\n",
    "# #     for offset in range(0, num_examples, BATCH_SIZE):\n",
    "#     accuracy = sess.run(accuracy_operation, feed_dict={x: X_data, y: y_data, keep_prob: 1})\n",
    "#     total_accuracy = accuracy\n",
    "#     return total_accuracy / num_examples\n",
    "\n",
    "\n",
    "with tf.Session() as sess:\n",
    "    sess.run(tf.global_variables_initializer())\n",
    "    num_examples = len(X_train)\n",
    "    \n",
    "    print(\"Training...\")\n",
    "    print()\n",
    "    for i in range(EPOCHS):\n",
    "        X_train_norm, y_train = shuffle(X_train_norm, y_train)\n",
    "        for offset in range(0, num_examples, BATCH_SIZE):\n",
    "            end = offset + BATCH_SIZE\n",
    "            batch_x, batch_y = X_train_norm[offset:end], y_train[offset:end]\n",
    "            sess.run(training_operation, feed_dict={x: batch_x, y: batch_y, keep_prob: 0.75})\n",
    "            \n",
    "        validation_accuracy = evaluate(X_valid_norm, y_valid)\n",
    "        if validation_accuracy >= 0.95:\n",
    "            break\n",
    "        print(\"EPOCH {} ...\".format(i+1))\n",
    "        print(\"Validation Accuracy = {:.3f}\".format(validation_accuracy))\n",
    "        print()\n",
    "        \n",
    "    saver.save(sess, './lenet')\n",
    "    print(\"Model saved\")\n",
    "\n"
   ]
  },
  {
   "cell_type": "markdown",
   "metadata": {},
   "source": [
    "---\n",
    "\n",
    "## Step 3: Test a Model on New Images\n",
    "\n",
    "To give yourself more insight into how your model is working, download at least five pictures of German traffic signs from the web and use your model to predict the traffic sign type.\n",
    "\n",
    "You may find `signnames.csv` useful as it contains mappings from the class id (integer) to the actual sign name."
   ]
  },
  {
   "cell_type": "markdown",
   "metadata": {},
   "source": [
    "### Load and Output the Images"
   ]
  },
  {
   "cell_type": "code",
   "execution_count": 12,
   "metadata": {},
   "outputs": [
    {
     "name": "stdout",
     "output_type": "stream",
     "text": [
      "(12630, 32, 32, 1)\n",
      "test accuracy:  0.920427553142\n",
      "(5, 32, 32, 1)\n"
     ]
    },
    {
     "data": {
      "text/plain": [
       "<matplotlib.image.AxesImage at 0x7ff92441b898>"
      ]
     },
     "execution_count": 12,
     "metadata": {},
     "output_type": "execute_result"
    },
    {
     "data": {
      "image/png": "[encoded data removed]",
      "text/plain": [
       "<matplotlib.figure.Figure at 0x7ff93e1a59e8>"
      ]
     },
     "metadata": {},
     "output_type": "display_data"
    }
   ],
   "source": [
    "#check the accuracy on the test set\n",
    "a, b, c, d = X_test.shape\n",
    "\n",
    "# print(X_test.shape)\n",
    "\n",
    "X_test_norm = np.zeros([a, b, c, 1])\n",
    "print(X_test_norm.shape)\n",
    "\n",
    "for i in range(a):\n",
    "    X_test_norm[i] = rgb2_normgray(X_test[i]).reshape((b, c, 1))\n",
    "\n",
    "with tf.Session() as sess:\n",
    "    saver.restore(sess, tf.train.latest_checkpoint('.'))\n",
    "    \n",
    "    test_acc = evaluate(X_test_norm, y_test)\n",
    "    \n",
    "print(\"test accuracy: \",test_acc)\n",
    "\n",
    "from scipy import misc\n",
    "### Load the images and plot them here.\n",
    "prefix = '../german/'\n",
    "img_locations = ['30.jpg', 'yield.jpg', 'rightaway.jpg', 'donotenter.jpg', 'oneway.jpg']\n",
    "no_images = len(img_locations)\n",
    "\n",
    "germ_inp_norm = np.zeros([no_images, b, c, 1])\n",
    "germ_labels = np.array([1, 13, 12, 17, 35])\n",
    "\n",
    "for i in range(no_images):\n",
    "    img = misc.imread(prefix + img_locations[i])\n",
    "    germ_inp_norm[i,:,:] = rgb2_normgray(img).reshape(32, 32, 1)\n",
    "    \n",
    "    \n",
    "print(germ_inp_norm.shape)\n",
    "\n",
    "plt.figure(figsize = (10, 10))\n",
    "plt.imshow((img))\n",
    "\n",
    "\n",
    "### Feel free to use as many code cells as needed."
   ]
  },
  {
   "cell_type": "markdown",
   "metadata": {},
   "source": [
    "### Predict the Sign Type for Each Image"
   ]
  },
  {
   "cell_type": "code",
   "execution_count": 13,
   "metadata": {},
   "outputs": [
    {
     "name": "stdout",
     "output_type": "stream",
     "text": [
      "NN prediction : \n",
      "[ 1 13 12 17 35]\n",
      "my preciction : \n",
      "[ 1 13 12 17 35]\n"
     ]
    }
   ],
   "source": [
    "### Run the predictions here and use the model to output the prediction for each image.\n",
    "### Make sure to pre-process the images with the same pre-processing pipeline used earlier.\n",
    "### Feel free to use as many code cells as needed.\n",
    "\n",
    "with tf.Session() as sess:\n",
    "    saver.restore(sess, tf.train.latest_checkpoint('.'))\n",
    "    \n",
    "    print(\"NN prediction : \");\n",
    "    lgts = sess.run(tf.argmax(logits, 1), feed_dict={x: germ_inp_norm, y: germ_labels, keep_prob: 1})\n",
    "    \n",
    "    #predictions for the german signs\n",
    "#     lgts = (logits.eval(feed_dict={x: germ_inp_norm, y: germ_labels, keep_prob: 1}))\n",
    "    print(lgts)\n",
    "    print(\"my preciction : \")\n",
    "    print(germ_labels)"
   ]
  },
  {
   "cell_type": "markdown",
   "metadata": {},
   "source": [
    "### Analyze Performance"
   ]
  },
  {
   "cell_type": "code",
   "execution_count": 14,
   "metadata": {},
   "outputs": [
    {
     "name": "stdout",
     "output_type": "stream",
     "text": [
      "new german traffic signs accuracy:  1.0\n"
     ]
    }
   ],
   "source": [
    "### Calculate the accuracy for these 5 new images. \n",
    "### For example, if the model predicted 1 out of 5 signs correctly, it's 20% accurate on these new images.\n",
    "\n",
    "with tf.Session() as sess:\n",
    "    saver.restore(sess, tf.train.latest_checkpoint('.'))\n",
    "    \n",
    "    germ_acc = evaluate(germ_inp_norm, germ_labels)\n",
    "    print(\"new german traffic signs accuracy: \",germ_acc)"
   ]
  },
  {
   "cell_type": "markdown",
   "metadata": {},
   "source": [
    "### Output Top 5 Softmax Probabilities For Each Image Found on the Web"
   ]
  },
  {
   "cell_type": "markdown",
   "metadata": {},
   "source": [
    "For each of the new images, print out the model's softmax probabilities to show the **certainty** of the model's predictions (limit the output to the top 5 probabilities for each image). [`tf.nn.top_k`](https://www.tensorflow.org/versions/r0.12/api_docs/python/nn.html#top_k) could prove helpful here. \n",
    "\n",
    "The example below demonstrates how tf.nn.top_k can be used to find the top k predictions for each image.\n",
    "\n",
    "`tf.nn.top_k` will return the values and indices (class ids) of the top k predictions. So if k=3, for each sign, it'll return the 3 largest probabilities (out of a possible 43) and the correspoding class ids.\n",
    "\n",
    "Take this numpy array as an example. The values in the array represent predictions. The array contains softmax probabilities for five candidate images with six possible classes. `tf.nn.top_k` is used to choose the three classes with the highest probability:\n",
    "\n",
    "```\n",
    "# (5, 6) array\n",
    "a = np.array([[ 0.24879643,  0.07032244,  0.12641572,  0.34763842,  0.07893497,\n",
    "         0.12789202],\n",
    "       [ 0.28086119,  0.27569815,  0.08594638,  0.0178669 ,  0.18063401,\n",
    "         0.15899337],\n",
    "       [ 0.26076848,  0.23664738,  0.08020603,  0.07001922,  0.1134371 ,\n",
    "         0.23892179],\n",
    "       [ 0.11943333,  0.29198961,  0.02605103,  0.26234032,  0.1351348 ,\n",
    "         0.16505091],\n",
    "       [ 0.09561176,  0.34396535,  0.0643941 ,  0.16240774,  0.24206137,\n",
    "         0.09155967]])\n",
    "```\n",
    "\n",
    "Running it through `sess.run(tf.nn.top_k(tf.constant(a), k=3))` produces:\n",
    "\n",
    "```\n",
    "TopKV2(values=array([[ 0.34763842,  0.24879643,  0.12789202],\n",
    "       [ 0.28086119,  0.27569815,  0.18063401],\n",
    "       [ 0.26076848,  0.23892179,  0.23664738],\n",
    "       [ 0.29198961,  0.26234032,  0.16505091],\n",
    "       [ 0.34396535,  0.24206137,  0.16240774]]), indices=array([[3, 0, 5],\n",
    "       [0, 1, 4],\n",
    "       [0, 5, 1],\n",
    "       [1, 3, 5],\n",
    "       [1, 4, 3]], dtype=int32))\n",
    "```\n",
    "\n",
    "Looking just at the first row we get `[ 0.34763842,  0.24879643,  0.12789202]`, you can confirm these are the 3 largest probabilities in `a`. You'll also notice `[3, 0, 5]` are the corresponding indices."
   ]
  },
  {
   "cell_type": "code",
   "execution_count": 10,
   "metadata": {},
   "outputs": [
    {
     "name": "stdout",
     "output_type": "stream",
     "text": [
      "TopKV2(values=array([[  71.01800537,   46.15120697,   28.30461311,   27.00335503,\n",
      "          16.87583733],\n",
      "       [ 147.0874939 ,   52.41324615,   42.21123886,   33.11660004,\n",
      "          25.70515633],\n",
      "       [ 410.62374878,   66.2775116 ,   53.54415131,   50.97191238,\n",
      "          42.10243225],\n",
      "       [ 209.10063171,   62.00756454,   58.00771332,   50.10193253,\n",
      "          40.58959961],\n",
      "       [  96.03321075,   38.58597565,   24.80202293,   18.52389145,\n",
      "          17.12722588]], dtype=float32), indices=array([[ 1,  2,  5,  4,  3],\n",
      "       [13, 12, 35,  8,  9],\n",
      "       [12, 11, 40,  5, 35],\n",
      "       [17, 14, 32, 40, 34],\n",
      "       [35, 33,  5, 10, 40]], dtype=int32))\n"
     ]
    }
   ],
   "source": [
    "### Print out the top five softmax probabilities for the predictions on the German traffic sign images found on the web. \n",
    "### Feel free to use as many code cells as needed.\n",
    "\n",
    "with tf.Session() as sess:\n",
    "    saver.restore(sess, tf.train.latest_checkpoint('.'))\n",
    "    top5 = sess.run(tf.nn.top_k(logits, k = 5), feed_dict={x: germ_inp_norm, y: germ_labels, keep_prob: 1})\n",
    "    print(top5)"
   ]
  },
  {
   "cell_type": "markdown",
   "metadata": {},
   "source": [
    "### Project Writeup\n",
    "\n",
    "Once you have completed the code implementation, document your results in a project writeup using this [template](https://github.com/udacity/CarND-Traffic-Sign-Classifier-Project/blob/master/writeup_template.md) as a guide. The writeup can be in a markdown or pdf file. "
   ]
  },
  {
   "cell_type": "markdown",
   "metadata": {},
   "source": [
    "> **Note**: Once you have completed all of the code implementations and successfully answered each question above, you may finalize your work by exporting the iPython Notebook as an HTML document. You can do this by using the menu above and navigating to  \\n\",\n",
    "    \"**File -> Download as -> HTML (.html)**. Include the finished document along with this notebook as your submission."
   ]
  },
  {
   "cell_type": "markdown",
   "metadata": {},
   "source": [
    "---\n",
    "\n",
    "## Step 4 (Optional): Visualize the Neural Network's State with Test Images\n",
    "\n",
    " This Section is not required to complete but acts as an additional excersise for understaning the output of a neural network's weights. While neural networks can be a great learning device they are often referred to as a black box. We can understand what the weights of a neural network look like better by plotting their feature maps. After successfully training your neural network you can see what it's feature maps look like by plotting the output of the network's weight layers in response to a test stimuli image. From these plotted feature maps, it's possible to see what characteristics of an image the network finds interesting. For a sign, maybe the inner network feature maps react with high activation to the sign's boundary outline or to the contrast in the sign's painted symbol.\n",
    "\n",
    " Provided for you below is the function code that allows you to get the visualization output of any tensorflow weight layer you want. The inputs to the function should be a stimuli image, one used during training or a new one you provided, and then the tensorflow variable name that represents the layer's state during the training process, for instance if you wanted to see what the [LeNet lab's](https://classroom.udacity.com/nanodegrees/nd013/parts/fbf77062-5703-404e-b60c-95b78b2f3f9e/modules/6df7ae49-c61c-4bb2-a23e-6527e69209ec/lessons/601ae704-1035-4287-8b11-e2c2716217ad/concepts/d4aca031-508f-4e0b-b493-e7b706120f81) feature maps looked like for it's second convolutional layer you could enter conv2 as the tf_activation variable.\n",
    "\n",
    "For an example of what feature map outputs look like, check out NVIDIA's results in their paper [End-to-End Deep Learning for Self-Driving Cars](https://devblogs.nvidia.com/parallelforall/deep-learning-self-driving-cars/) in the section Visualization of internal CNN State. NVIDIA was able to show that their network's inner weights had high activations to road boundary lines by comparing feature maps from an image with a clear path to one without. Try experimenting with a similar test to show that your trained network's weights are looking for interesting features, whether it's looking at differences in feature maps from images with or without a sign, or even what feature maps look like in a trained network vs a completely untrained one on the same sign image.\n",
    "\n",
    "<figure>\n",
    " <img src=\"visualize_cnn.png\" width=\"380\" alt=\"Combined Image\" />\n",
    " <figcaption>\n",
    " <p></p> \n",
    " <p style=\"text-align: center;\"> Your output should look something like this (above)</p> \n",
    " </figcaption>\n",
    "</figure>\n",
    " <p></p> \n"
   ]
  },
  {
   "cell_type": "code",
   "execution_count": 11,
   "metadata": {
    "collapsed": true
   },
   "outputs": [],
   "source": [
    "### Visualize your network's feature maps here.\n",
    "### Feel free to use as many code cells as needed.\n",
    "\n",
    "# image_input: the test image being fed into the network to produce the feature maps\n",
    "# tf_activation: should be a tf variable name used during your training procedure that represents the calculated state of a specific weight layer\n",
    "# activation_min/max: can be used to view the activation contrast in more detail, by default matplot sets min and max to the actual min and max values of the output\n",
    "# plt_num: used to plot out multiple different weight feature map sets on the same block, just extend the plt number for each new feature map entry\n",
    "\n",
    "def outputFeatureMap(image_input, tf_activation, activation_min=-1, activation_max=-1 ,plt_num=1):\n",
    "    # Here make sure to preprocess your image_input in a way your network expects\n",
    "    # with size, normalization, ect if needed\n",
    "    # image_input =\n",
    "    # Note: x should be the same name as your network's tensorflow data placeholder variable\n",
    "    # If you get an error tf_activation is not defined it may be having trouble accessing the variable from inside a function\n",
    "    activation = tf_activation.eval(session=sess,feed_dict={x : image_input})\n",
    "    featuremaps = activation.shape[3]\n",
    "    plt.figure(plt_num, figsize=(15,15))\n",
    "    for featuremap in range(featuremaps):\n",
    "        plt.subplot(6,8, featuremap+1) # sets the number of feature maps to show on each row and column\n",
    "        plt.title('FeatureMap ' + str(featuremap)) # displays the feature map number\n",
    "        if activation_min != -1 & activation_max != -1:\n",
    "            plt.imshow(activation[0,:,:, featuremap], interpolation=\"nearest\", vmin =activation_min, vmax=activation_max, cmap=\"gray\")\n",
    "        elif activation_max != -1:\n",
    "            plt.imshow(activation[0,:,:, featuremap], interpolation=\"nearest\", vmax=activation_max, cmap=\"gray\")\n",
    "        elif activation_min !=-1:\n",
    "            plt.imshow(activation[0,:,:, featuremap], interpolation=\"nearest\", vmin=activation_min, cmap=\"gray\")\n",
    "        else:\n",
    "            plt.imshow(activation[0,:,:, featuremap], interpolation=\"nearest\", cmap=\"gray\")"
   ]
  },
  {
   "cell_type": "code",
   "execution_count": null,
   "metadata": {
    "collapsed": true
   },
   "outputs": [],
   "source": []
  }
 ],
 "metadata": {
  "anaconda-cloud": {},
  "kernelspec": {
   "display_name": "Python 3",
   "language": "python",
   "name": "python3"
  },
  "language_info": {
   "codemirror_mode": {
    "name": "ipython",
    "version": 3
   },
   "file_extension": ".py",
   "mimetype": "text/x-python",
   "name": "python",
   "nbconvert_exporter": "python",
   "pygments_lexer": "ipython3",
   "version": "3.5.2"
  },
  "widgets": {
   "state": {},
   "version": "1.1.2"
  }
 },
 "nbformat": 4,
 "nbformat_minor": 1
}
